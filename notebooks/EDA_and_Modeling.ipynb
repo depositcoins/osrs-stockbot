{
 "cells": [
  {
   "cell_type": "markdown",
   "metadata": {},
   "source": [
    "# 🧪 OSRS StockBot - EDA & Modeling
",
    "
",
    "This notebook explores item price data and builds forecasting models using ARIMA and LSTM."
   ]
  },
  {
   "cell_type": "code",
   "execution_count": null,
   "metadata": {},
   "outputs": [],
   "source": [
    "# 📦 Imports
",
    "import pandas as pd
",
    "import matplotlib.pyplot as plt
",
    "import seaborn as sns
",
    "from statsmodels.tsa.stattools import adfuller
",
    "from statsmodels.graphics.tsaplots import plot_acf, plot_pacf"
   ]
  },
  {
   "cell_type": "code",
   "execution_count": null,
   "metadata": {},
   "outputs": [],
   "source": [
    "# 📊 Load and visualize price data
",
    "df = pd.read_csv("../data/price_history/oathplate_prices.csv", parse_dates=["timestamp"])
",
    "df.set_index("timestamp", inplace=True)
",
    "df = df.resample("D").mean().dropna()
",
    "df.plot(title="Oathplate Chest - Daily Average Prices", figsize=(12, 5))
",
    "plt.ylabel("GP")"
   ]
  },
  {
   "cell_type": "code",
   "execution_count": null,
   "metadata": {},
   "outputs": [],
   "source": [
    "# 🔍 Stationarity check (ADF Test)
",
    "result = adfuller(df["avgHighPrice"])
",
    "print("ADF Statistic:", result[0])
",
    "print("p-value:", result[1])"
   ]
  },
  {
   "cell_type": "code",
   "execution_count": null,
   "metadata": {},
   "outputs": [],
   "source": [
    "# 🌀 Autocorrelation plots
",
    "plot_acf(df["avgHighPrice"])
",
    "plot_pacf(df["avgHighPrice"])
",
    "plt.show()"
   ]
  },
  {
   "cell_type": "markdown",
   "metadata": {},
   "source": [
    "You can now proceed to train ARIMA and LSTM models from their respective scripts in the `models/` folder."
   ]
  }
 ],
 "metadata": {
  "kernelspec": {
   "display_name": "Python 3",
   "language": "python",
   "name": "python3"
  },
  "language_info": {
   "name": "python",
   "version": ""
  }
 },
 "nbformat": 4,
 "nbformat_minor": 5
}
